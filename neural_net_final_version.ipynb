{
 "cells": [
  {
   "cell_type": "code",
   "execution_count": 1,
   "metadata": {},
   "outputs": [],
   "source": [
    "import pandas as pd\n",
    "import numpy as np\n",
    "from collections import Counter\n",
    "import torch\n",
    "import torchvision\n",
    "import torchvision.transforms as transforms\n",
    "from torch.utils.data import Dataset, DataLoader\n",
    "%matplotlib inline\n",
    "import matplotlib\n",
    "import matplotlib.pyplot as plt\n",
    "import seaborn as sns\n",
    "import torch.nn as nn\n",
    "import torch.nn.functional as F\n",
    "import torch.optim as optim"
   ]
  },
  {
   "cell_type": "code",
   "execution_count": 2,
   "metadata": {},
   "outputs": [],
   "source": [
    "train= pd.read_csv(\"train.csv\")\n",
    "test= pd.read_csv(\"test.csv\")"
   ]
  },
  {
   "cell_type": "markdown",
   "metadata": {},
   "source": [
    "# Data Visualization"
   ]
  },
  {
   "cell_type": "markdown",
   "metadata": {},
   "source": [
    "## Overview"
   ]
  },
  {
   "cell_type": "code",
   "execution_count": 4,
   "metadata": {},
   "outputs": [
    {
     "data": {
      "text/html": [
       "<div>\n",
       "<style scoped>\n",
       "    .dataframe tbody tr th:only-of-type {\n",
       "        vertical-align: middle;\n",
       "    }\n",
       "\n",
       "    .dataframe tbody tr th {\n",
       "        vertical-align: top;\n",
       "    }\n",
       "\n",
       "    .dataframe thead th {\n",
       "        text-align: right;\n",
       "    }\n",
       "</style>\n",
       "<table border=\"1\" class=\"dataframe\">\n",
       "  <thead>\n",
       "    <tr style=\"text-align: right;\">\n",
       "      <th></th>\n",
       "      <th>Serial No.</th>\n",
       "      <th>GRE Score</th>\n",
       "      <th>TOEFL Score</th>\n",
       "      <th>University Rating</th>\n",
       "      <th>SOP</th>\n",
       "      <th>LOR</th>\n",
       "      <th>CGPA</th>\n",
       "      <th>Research</th>\n",
       "      <th>Chance of Admit</th>\n",
       "      <th>Admission</th>\n",
       "    </tr>\n",
       "  </thead>\n",
       "  <tbody>\n",
       "    <tr>\n",
       "      <th>0</th>\n",
       "      <td>153</td>\n",
       "      <td>321</td>\n",
       "      <td>112</td>\n",
       "      <td>5</td>\n",
       "      <td>5.0</td>\n",
       "      <td>5.0</td>\n",
       "      <td>9.06</td>\n",
       "      <td>1</td>\n",
       "      <td>0.86</td>\n",
       "      <td>1.0</td>\n",
       "    </tr>\n",
       "    <tr>\n",
       "      <th>1</th>\n",
       "      <td>367</td>\n",
       "      <td>320</td>\n",
       "      <td>104</td>\n",
       "      <td>3</td>\n",
       "      <td>3.5</td>\n",
       "      <td>4.5</td>\n",
       "      <td>8.34</td>\n",
       "      <td>1</td>\n",
       "      <td>0.74</td>\n",
       "      <td>1.0</td>\n",
       "    </tr>\n",
       "    <tr>\n",
       "      <th>2</th>\n",
       "      <td>40</td>\n",
       "      <td>307</td>\n",
       "      <td>108</td>\n",
       "      <td>2</td>\n",
       "      <td>4.0</td>\n",
       "      <td>3.5</td>\n",
       "      <td>7.70</td>\n",
       "      <td>0</td>\n",
       "      <td>0.48</td>\n",
       "      <td>0.0</td>\n",
       "    </tr>\n",
       "    <tr>\n",
       "      <th>3</th>\n",
       "      <td>42</td>\n",
       "      <td>316</td>\n",
       "      <td>105</td>\n",
       "      <td>2</td>\n",
       "      <td>2.5</td>\n",
       "      <td>2.5</td>\n",
       "      <td>8.20</td>\n",
       "      <td>1</td>\n",
       "      <td>0.49</td>\n",
       "      <td>0.0</td>\n",
       "    </tr>\n",
       "    <tr>\n",
       "      <th>4</th>\n",
       "      <td>335</td>\n",
       "      <td>312</td>\n",
       "      <td>107</td>\n",
       "      <td>4</td>\n",
       "      <td>4.5</td>\n",
       "      <td>4.0</td>\n",
       "      <td>8.65</td>\n",
       "      <td>1</td>\n",
       "      <td>0.73</td>\n",
       "      <td>1.0</td>\n",
       "    </tr>\n",
       "  </tbody>\n",
       "</table>\n",
       "</div>"
      ],
      "text/plain": [
       "   Serial No.  GRE Score  TOEFL Score  University Rating  SOP  LOR   CGPA  \\\n",
       "0         153        321          112                  5  5.0   5.0  9.06   \n",
       "1         367        320          104                  3  3.5   4.5  8.34   \n",
       "2          40        307          108                  2  4.0   3.5  7.70   \n",
       "3          42        316          105                  2  2.5   2.5  8.20   \n",
       "4         335        312          107                  4  4.5   4.0  8.65   \n",
       "\n",
       "   Research  Chance of Admit   Admission  \n",
       "0         1              0.86        1.0  \n",
       "1         1              0.74        1.0  \n",
       "2         0              0.48        0.0  \n",
       "3         1              0.49        0.0  \n",
       "4         1              0.73        1.0  "
      ]
     },
     "execution_count": 4,
     "metadata": {},
     "output_type": "execute_result"
    }
   ],
   "source": [
    "train.head()"
   ]
  },
  {
   "cell_type": "markdown",
   "metadata": {},
   "source": [
    "## Correlation Heatmap"
   ]
  },
  {
   "cell_type": "code",
   "execution_count": 5,
   "metadata": {},
   "outputs": [
    {
     "data": {
      "image/png": "[encoded data removed]",
      "text/plain": [
       "<Figure size 432x288 with 2 Axes>"
      ]
     },
     "metadata": {
      "needs_background": "light"
     },
     "output_type": "display_data"
    }
   ],
   "source": [
    "data = train[['GRE Score','TOEFL Score','University Rating', 'SOP','LOR ', 'CGPA', 'Research', 'Chance of Admit ']]\n",
    "corr = data.corr()\n",
    "ax = sns.heatmap(\n",
    "    corr, \n",
    "    vmin=-1, vmax=1, center=0,\n",
    "    cmap=sns.diverging_palette(20, 220, n=200),\n",
    "    square=True\n",
    ")\n",
    "ax.set_xticklabels(\n",
    "    ax.get_xticklabels(),\n",
    "    rotation=45,\n",
    "    horizontalalignment='right'\n",
    ");"
   ]
  },
  {
   "cell_type": "code",
   "execution_count": 6,
   "metadata": {},
   "outputs": [
    {
     "data": {
      "text/html": [
       "<div>\n",
       "<style scoped>\n",
       "    .dataframe tbody tr th:only-of-type {\n",
       "        vertical-align: middle;\n",
       "    }\n",
       "\n",
       "    .dataframe tbody tr th {\n",
       "        vertical-align: top;\n",
       "    }\n",
       "\n",
       "    .dataframe thead th {\n",
       "        text-align: right;\n",
       "    }\n",
       "</style>\n",
       "<table border=\"1\" class=\"dataframe\">\n",
       "  <thead>\n",
       "    <tr style=\"text-align: right;\">\n",
       "      <th></th>\n",
       "      <th>GRE Score</th>\n",
       "      <th>TOEFL Score</th>\n",
       "      <th>University Rating</th>\n",
       "      <th>SOP</th>\n",
       "      <th>LOR</th>\n",
       "      <th>CGPA</th>\n",
       "      <th>Research</th>\n",
       "      <th>Chance of Admit</th>\n",
       "    </tr>\n",
       "  </thead>\n",
       "  <tbody>\n",
       "    <tr>\n",
       "      <th>GRE Score</th>\n",
       "      <td>1.000000</td>\n",
       "      <td>0.837652</td>\n",
       "      <td>0.641584</td>\n",
       "      <td>0.617741</td>\n",
       "      <td>0.530052</td>\n",
       "      <td>0.831782</td>\n",
       "      <td>0.562800</td>\n",
       "      <td>0.801206</td>\n",
       "    </tr>\n",
       "    <tr>\n",
       "      <th>TOEFL Score</th>\n",
       "      <td>0.837652</td>\n",
       "      <td>1.000000</td>\n",
       "      <td>0.664569</td>\n",
       "      <td>0.669889</td>\n",
       "      <td>0.562308</td>\n",
       "      <td>0.820676</td>\n",
       "      <td>0.484800</td>\n",
       "      <td>0.796866</td>\n",
       "    </tr>\n",
       "    <tr>\n",
       "      <th>University Rating</th>\n",
       "      <td>0.641584</td>\n",
       "      <td>0.664569</td>\n",
       "      <td>1.000000</td>\n",
       "      <td>0.737368</td>\n",
       "      <td>0.618060</td>\n",
       "      <td>0.713836</td>\n",
       "      <td>0.414812</td>\n",
       "      <td>0.688110</td>\n",
       "    </tr>\n",
       "    <tr>\n",
       "      <th>SOP</th>\n",
       "      <td>0.617741</td>\n",
       "      <td>0.669889</td>\n",
       "      <td>0.737368</td>\n",
       "      <td>1.000000</td>\n",
       "      <td>0.667767</td>\n",
       "      <td>0.723864</td>\n",
       "      <td>0.396105</td>\n",
       "      <td>0.684358</td>\n",
       "    </tr>\n",
       "    <tr>\n",
       "      <th>LOR</th>\n",
       "      <td>0.530052</td>\n",
       "      <td>0.562308</td>\n",
       "      <td>0.618060</td>\n",
       "      <td>0.667767</td>\n",
       "      <td>1.000000</td>\n",
       "      <td>0.638709</td>\n",
       "      <td>0.376800</td>\n",
       "      <td>0.660298</td>\n",
       "    </tr>\n",
       "    <tr>\n",
       "      <th>CGPA</th>\n",
       "      <td>0.831782</td>\n",
       "      <td>0.820676</td>\n",
       "      <td>0.713836</td>\n",
       "      <td>0.723864</td>\n",
       "      <td>0.638709</td>\n",
       "      <td>1.000000</td>\n",
       "      <td>0.506440</td>\n",
       "      <td>0.884342</td>\n",
       "    </tr>\n",
       "    <tr>\n",
       "      <th>Research</th>\n",
       "      <td>0.562800</td>\n",
       "      <td>0.484800</td>\n",
       "      <td>0.414812</td>\n",
       "      <td>0.396105</td>\n",
       "      <td>0.376800</td>\n",
       "      <td>0.506440</td>\n",
       "      <td>1.000000</td>\n",
       "      <td>0.547672</td>\n",
       "    </tr>\n",
       "    <tr>\n",
       "      <th>Chance of Admit</th>\n",
       "      <td>0.801206</td>\n",
       "      <td>0.796866</td>\n",
       "      <td>0.688110</td>\n",
       "      <td>0.684358</td>\n",
       "      <td>0.660298</td>\n",
       "      <td>0.884342</td>\n",
       "      <td>0.547672</td>\n",
       "      <td>1.000000</td>\n",
       "    </tr>\n",
       "  </tbody>\n",
       "</table>\n",
       "</div>"
      ],
      "text/plain": [
       "                   GRE Score  TOEFL Score  University Rating       SOP  \\\n",
       "GRE Score           1.000000     0.837652           0.641584  0.617741   \n",
       "TOEFL Score         0.837652     1.000000           0.664569  0.669889   \n",
       "University Rating   0.641584     0.664569           1.000000  0.737368   \n",
       "SOP                 0.617741     0.669889           0.737368  1.000000   \n",
       "LOR                 0.530052     0.562308           0.618060  0.667767   \n",
       "CGPA                0.831782     0.820676           0.713836  0.723864   \n",
       "Research            0.562800     0.484800           0.414812  0.396105   \n",
       "Chance of Admit     0.801206     0.796866           0.688110  0.684358   \n",
       "\n",
       "                       LOR       CGPA  Research  Chance of Admit   \n",
       "GRE Score          0.530052  0.831782  0.562800          0.801206  \n",
       "TOEFL Score        0.562308  0.820676  0.484800          0.796866  \n",
       "University Rating  0.618060  0.713836  0.414812          0.688110  \n",
       "SOP                0.667767  0.723864  0.396105          0.684358  \n",
       "LOR                1.000000  0.638709  0.376800          0.660298  \n",
       "CGPA               0.638709  1.000000  0.506440          0.884342  \n",
       "Research           0.376800  0.506440  1.000000          0.547672  \n",
       "Chance of Admit    0.660298  0.884342  0.547672          1.000000  "
      ]
     },
     "execution_count": 6,
     "metadata": {},
     "output_type": "execute_result"
    }
   ],
   "source": [
    "corr"
   ]
  },
  {
   "cell_type": "markdown",
   "metadata": {},
   "source": [
    "## Distribution of admission"
   ]
  },
  {
   "cell_type": "code",
   "execution_count": 7,
   "metadata": {},
   "outputs": [
    {
     "data": {
      "text/plain": [
       "<matplotlib.axes._subplots.AxesSubplot at 0x12df624d0>"
      ]
     },
     "execution_count": 7,
     "metadata": {},
     "output_type": "execute_result"
    },
    {
     "data": {
      "image/png": "[encoded data removed]",
      "text/plain": [
       "<Figure size 1080x576 with 1 Axes>"
      ]
     },
     "metadata": {
      "needs_background": "light"
     },
     "output_type": "display_data"
    }
   ],
   "source": [
    "adm = train['Admission']\n",
    "r = Counter(adm)\n",
    "\n",
    "adm = pd.DataFrame.from_dict(r, orient = 'index').sort_index()\n",
    "adm.plot(kind = 'bar', color = 'LightBlue', figsize = (15,8), title = 'Admission Distribution', legend = False)"
   ]
  },
  {
   "cell_type": "markdown",
   "metadata": {},
   "source": [
    "## Distribution of GRE Score"
   ]
  },
  {
   "cell_type": "code",
   "execution_count": 8,
   "metadata": {},
   "outputs": [
    {
     "data": {
      "text/plain": [
       "<matplotlib.axes._subplots.AxesSubplot at 0x12dfd8990>"
      ]
     },
     "execution_count": 8,
     "metadata": {},
     "output_type": "execute_result"
    },
    {
     "data": {
      "image/png": "[encoded data removed]",
      "text/plain": [
       "<Figure size 1080x576 with 1 Axes>"
      ]
     },
     "metadata": {
      "needs_background": "light"
     },
     "output_type": "display_data"
    }
   ],
   "source": [
    "gre = train['GRE Score']\n",
    "r = Counter(gre)\n",
    "\n",
    "gre = pd.DataFrame.from_dict(r, orient = 'index').sort_index()\n",
    "gre.plot(kind = 'bar', color = 'LightBlue', figsize = (15,8), title = 'GRE Score Distribution', legend = False)\n"
   ]
  },
  {
   "cell_type": "markdown",
   "metadata": {},
   "source": [
    "## Distribution of TOEFL Score"
   ]
  },
  {
   "cell_type": "code",
   "execution_count": 9,
   "metadata": {},
   "outputs": [
    {
     "data": {
      "text/plain": [
       "<matplotlib.axes._subplots.AxesSubplot at 0x12e5584d0>"
      ]
     },
     "execution_count": 9,
     "metadata": {},
     "output_type": "execute_result"
    },
    {
     "data": {
      "image/png": "[encoded data removed]",
      "text/plain": [
       "<Figure size 1080x576 with 1 Axes>"
      ]
     },
     "metadata": {
      "needs_background": "light"
     },
     "output_type": "display_data"
    }
   ],
   "source": [
    "toefl = train['TOEFL Score']\n",
    "r = Counter(toefl)\n",
    "\n",
    "toefl = pd.DataFrame.from_dict(r, orient = 'index').sort_index()\n",
    "toefl.plot(kind = 'bar', color = 'LightBlue', figsize = (15,8), title = 'TOEFL Score Distribution', legend = False)"
   ]
  },
  {
   "cell_type": "markdown",
   "metadata": {},
   "source": [
    "# Dataloader"
   ]
  },
  {
   "cell_type": "code",
   "execution_count": 10,
   "metadata": {},
   "outputs": [],
   "source": [
    "class Data(Dataset):\n",
    "    def __init__(self, file_path):\n",
    "        self.data_frame = np.array(pd.read_csv(file_path)[['GRE Score','TOEFL Score','University Rating', 'SOP','LOR ', 'CGPA', 'Research', 'Admission']])\n",
    "    def __len__(self):\n",
    "        return self.data_frame.shape[0]\n",
    "    def __getitem__(self, idx):\n",
    "        feature = torch.tensor(self.data_frame[idx][:-1], dtype=torch.float)\n",
    "        label = torch.tensor(self.data_frame[idx][-1], dtype=torch.long)\n",
    "        return feature, label"
   ]
  },
  {
   "cell_type": "code",
   "execution_count": 11,
   "metadata": {},
   "outputs": [],
   "source": [
    "trainset = Data(\"train.csv\")\n",
    "trainloader = torch.utils.data.DataLoader(trainset, batch_size=3, shuffle=True, num_workers=1)"
   ]
  },
  {
   "cell_type": "code",
   "execution_count": 12,
   "metadata": {},
   "outputs": [],
   "source": [
    "testset = Data(\"test.csv\")\n",
    "testloader = torch.utils.data.DataLoader(testset, batch_size=3, shuffle=False, num_workers=1)"
   ]
  },
  {
   "cell_type": "markdown",
   "metadata": {},
   "source": [
    "# Model"
   ]
  },
  {
   "cell_type": "code",
   "execution_count": 31,
   "metadata": {},
   "outputs": [],
   "source": [
    "class Net(nn.Module):\n",
    "    def __init__(self):\n",
    "        super(Net, self).__init__()\n",
    "        self.fc1 = nn.Linear(7, 4)\n",
    "        self.fc2 = nn.Linear(4, 4)\n",
    "        self.fc3 = nn.Linear(4, 2)\n",
    "\n",
    "    def forward(self, x):\n",
    "        x = F.relu(self.fc1(x))\n",
    "        x = F.relu(self.fc2(x))\n",
    "        x = self.fc3(x)\n",
    "        return x\n",
    "net = Net()"
   ]
  },
  {
   "cell_type": "markdown",
   "metadata": {},
   "source": [
    "# Training"
   ]
  },
  {
   "cell_type": "code",
   "execution_count": 32,
   "metadata": {},
   "outputs": [],
   "source": [
    "criterion = nn.CrossEntropyLoss()\n",
    "optimizer = optim.Adam(net.parameters(), lr=0.001)"
   ]
  },
  {
   "cell_type": "code",
   "execution_count": 33,
   "metadata": {},
   "outputs": [
    {
     "name": "stdout",
     "output_type": "stream",
     "text": [
      "[1,   100] loss: 0.789\n",
      "[2,   100] loss: 0.706\n",
      "[3,   100] loss: 0.701\n",
      "[4,   100] loss: 0.700\n",
      "[5,   100] loss: 0.697\n",
      "[6,   100] loss: 0.696\n",
      "[7,   100] loss: 0.697\n",
      "[8,   100] loss: 0.689\n",
      "[9,   100] loss: 0.683\n",
      "[10,   100] loss: 0.680\n",
      "[11,   100] loss: 0.651\n",
      "[12,   100] loss: 0.576\n",
      "[13,   100] loss: 0.545\n",
      "[14,   100] loss: 0.516\n",
      "[15,   100] loss: 0.500\n",
      "[16,   100] loss: 0.456\n",
      "[17,   100] loss: 0.445\n",
      "[18,   100] loss: 0.490\n",
      "[19,   100] loss: 0.469\n",
      "[20,   100] loss: 0.452\n",
      "Finished Training\n"
     ]
    }
   ],
   "source": [
    "for epoch in range(20):  # loop over the dataset multiple times\n",
    "    running_loss = 0.0\n",
    "    for i, data in enumerate(trainloader):\n",
    "        inputs, labels = data\n",
    "        optimizer.zero_grad()\n",
    "        outputs = net(inputs)\n",
    "        loss = criterion(outputs, labels)\n",
    "        loss.backward()\n",
    "        optimizer.step()\n",
    "        running_loss += loss.item()\n",
    "        if i % 100 == 99:\n",
    "            print('[%d, %5d] loss: %.3f' % (epoch + 1, i + 1, running_loss / 100))\n",
    "            running_loss = 0.0\n",
    "print('Finished Training')"
   ]
  },
  {
   "cell_type": "markdown",
   "metadata": {},
   "source": [
    "# Testing"
   ]
  },
  {
   "cell_type": "code",
   "execution_count": 34,
   "metadata": {},
   "outputs": [
    {
     "name": "stdout",
     "output_type": "stream",
     "text": [
      "Accuracy of the network on the 100 test images: 78%\n"
     ]
    }
   ],
   "source": [
    "correct = 0\n",
    "total = 0\n",
    "with torch.no_grad():\n",
    "    for data in testloader:\n",
    "        inputs, labels = data\n",
    "        outputs = net(inputs)\n",
    "        _, predicted = torch.max(outputs.data, 1)\n",
    "        total += labels.size(0)\n",
    "        correct += (predicted == labels).sum().item()\n",
    "\n",
    "print('Accuracy of the network on the 100 test images: %d%%' % ( 100*correct / total))"
   ]
  },
  {
   "cell_type": "code",
   "execution_count": null,
   "metadata": {},
   "outputs": [],
   "source": []
  }
 ],
 "metadata": {
  "kernelspec": {
   "display_name": "Python 3",
   "language": "python",
   "name": "python3"
  },
  "language_info": {
   "codemirror_mode": {
    "name": "ipython",
    "version": 3
   },
   "file_extension": ".py",
   "mimetype": "text/x-python",
   "name": "python",
   "nbconvert_exporter": "python",
   "pygments_lexer": "ipython3",
   "version": "3.7.4"
  }
 },
 "nbformat": 4,
 "nbformat_minor": 2
}
